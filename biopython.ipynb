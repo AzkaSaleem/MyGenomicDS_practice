{
 "cells": [
  {
   "cell_type": "markdown",
   "metadata": {},
   "source": [
    "## Biopython\t\n",
    "Includes\tparsers\tfor\tvarious\tbioinformatics\tOile\t\n",
    "formats\t(such\tas\tFASTA,\tGenbank),\taccess\tto\tonline\tservices\t\n",
    "like\tNCBI\tEntrez\tor\tPubmed\tdatabases,\tinterfaces\tto\t\n",
    "common\tbioinformatics\tprograms\tsuch\tas\tBLAST,\tClustalw,\t\n",
    "and\tothers."
   ]
  },
  {
   "cell_type": "code",
   "execution_count": 3,
   "metadata": {},
   "outputs": [
    {
     "name": "stdout",
     "output_type": "stream",
     "text": [
      "Requirement already satisfied: biopython in c:\\users\\azka\\anaconda3\\lib\\site-packages (1.79)Note: you may need to restart the kernel to use updated packages.\n",
      "Requirement already satisfied: numpy in c:\\users\\azka\\anaconda3\\lib\\site-packages (from biopython) (1.20.3)\n",
      "\n"
     ]
    },
    {
     "name": "stderr",
     "output_type": "stream",
     "text": [
      "WARNING: Ignoring invalid distribution -tatsmodels (c:\\users\\azka\\anaconda3\\lib\\site-packages)\n",
      "WARNING: Ignoring invalid distribution -tatsmodels (c:\\users\\azka\\anaconda3\\lib\\site-packages)\n",
      "WARNING: Ignoring invalid distribution -tatsmodels (c:\\users\\azka\\anaconda3\\lib\\site-packages)\n",
      "WARNING: Ignoring invalid distribution -tatsmodels (c:\\users\\azka\\anaconda3\\lib\\site-packages)\n",
      "WARNING: Ignoring invalid distribution -tatsmodels (c:\\users\\azka\\anaconda3\\lib\\site-packages)\n",
      "WARNING: Ignoring invalid distribution -tatsmodels (c:\\users\\azka\\anaconda3\\lib\\site-packages)\n"
     ]
    }
   ],
   "source": [
    "pip install biopython"
   ]
  },
  {
   "cell_type": "code",
   "execution_count": 2,
   "metadata": {},
   "outputs": [
    {
     "name": "stdout",
     "output_type": "stream",
     "text": [
      "1.79\n"
     ]
    }
   ],
   "source": [
    "\n",
    "\n",
    "import Bio\n",
    "print(Bio.__version__)\n"
   ]
  }
 ],
 "metadata": {
  "interpreter": {
   "hash": "69eb46f2bce47a2509c2b9deeedf7121a5e08aa609b9358637954fdcc3621e06"
  },
  "kernelspec": {
   "display_name": "Python 3.9.7 ('base')",
   "language": "python",
   "name": "python3"
  },
  "language_info": {
   "codemirror_mode": {
    "name": "ipython",
    "version": 3
   },
   "file_extension": ".py",
   "mimetype": "text/x-python",
   "name": "python",
   "nbconvert_exporter": "python",
   "pygments_lexer": "ipython3",
   "version": "3.9.7"
  },
  "orig_nbformat": 4
 },
 "nbformat": 4,
 "nbformat_minor": 2
}
