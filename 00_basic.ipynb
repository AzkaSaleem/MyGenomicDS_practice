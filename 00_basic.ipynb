{
 "cells": [
  {
   "cell_type": "markdown",
   "metadata": {},
   "source": [
    "### Python\tis\tan\teasy\tto\tlearn,\tpowerful\tprogramming\tlanguage\n",
    "\n",
    "• It\tis\tsimple\tto\tuse:\tPython\tsyntax\tis\tclearly\tdeTined\twhich\tmakes\tit\teasily\t\n",
    "readable.\n",
    "• It\tis\tinteractive:\tyou\tcan\twrite\tand\ttest\tyour\tprograms\tdirectly\tfrom\ta\t\n",
    "terminal\twindow.\t\n",
    "\n",
    "• It\thas\ta\tlarge\tstandard\tlibrary:\tPython’s\tlibrary\tof\tbuilt-in\tfunctions\t\n",
    "offers\ta\twide\trange\tof\tprograms\tthat\tare\talready\twritten\tfor\tyou.\t\t\n",
    "\n",
    "• It\tis\tportable:\tPython\truns\ton\tmany\tUnix\tvariants,\ton\tMac\tOS,\tand\ton\t\n",
    "Windows.\t\n",
    "\n",
    "• It\tis\textensible:\tyou\tcan\tuse\tit\tas\tan\textension\tlanguage\tfor\tapplications\t\n",
    "that\tneed\ta\tprogrammable\tinterface.\t\n",
    "\n",
    "• It\tis\tscalable: you\tcan\tuse\tit\tfor\tvery\tsmall\tor\tvery\tlarge\tprograms.\t\n",
    "# PYTHON FOR GENOMIC\tDATA SCIENCE\n",
    "### let's start!\n",
    "## 1. NUMBERS\tAND\tSTRINGS\n",
    "### Using\tPython\tAs\tA\tCalculator\n"
   ]
  },
  {
   "cell_type": "code",
   "execution_count": null,
   "metadata": {},
   "outputs": [
    {
     "ename": "",
     "evalue": "",
     "output_type": "error",
     "traceback": [
      "\u001b[1;31mFailed to start the Kernel. \n",
      "NameError: name 'o' is not defined. \n",
      "View Jupyter <a href='command:jupyter.viewOutput'>log</a> for further details."
     ]
    }
   ],
   "source": [
    "print(\"hello\")"
   ]
  },
  {
   "cell_type": "code",
   "execution_count": null,
   "metadata": {},
   "outputs": [],
   "source": [
    "5+5"
   ]
  },
  {
   "cell_type": "code",
   "execution_count": null,
   "metadata": {},
   "outputs": [],
   "source": [
    "#** is used to calculate powers \n",
    "10**2"
   ]
  },
  {
   "cell_type": "code",
   "execution_count": null,
   "metadata": {},
   "outputs": [],
   "source": [
    "#* takes precedence over +, -\n",
    "10.5-2*3"
   ]
  },
  {
   "cell_type": "code",
   "execution_count": null,
   "metadata": {},
   "outputs": [],
   "source": [
    "#the % operator returns the remainder after division\n",
    "17 % 3 "
   ]
  },
  {
   "cell_type": "code",
   "execution_count": null,
   "metadata": {},
   "outputs": [],
   "source": [
    "5 * 3 + 2 "
   ]
  },
  {
   "cell_type": "code",
   "execution_count": null,
   "metadata": {},
   "outputs": [],
   "source": [
    "#floor division discards the fractional part \n",
    "17.0 // 3 "
   ]
  },
  {
   "cell_type": "markdown",
   "metadata": {},
   "source": [
    "## Strings\t\n",
    "\n",
    "• Single\tquoted\tstrings:\t\n",
    "‘atg’\n",
    "\n",
    "• Double\tquoted\tstrings:\t\n",
    "“atg”"
   ]
  },
  {
   "cell_type": "code",
   "execution_count": null,
   "metadata": {},
   "outputs": [],
   "source": [
    "# + concatenate\n",
    "'atg' + 'gtacgtccgt'"
   ]
  },
  {
   "cell_type": "code",
   "execution_count": null,
   "metadata": {},
   "outputs": [],
   "source": [
    "#* copy\tstring\t(replicate)\n",
    "'atg'*3"
   ]
  },
  {
   "cell_type": "code",
   "execution_count": null,
   "metadata": {},
   "outputs": [],
   "source": [
    "#in\t: membership:\ttrue\tif\tWirst\tstring\texists\tinside\n",
    "'atg' in 'atggccggcgta'\t"
   ]
  },
  {
   "cell_type": "code",
   "execution_count": null,
   "metadata": {},
   "outputs": [],
   "source": [
    "#not in: non-membership:\ttrue\tif\tWirst\tstring\tdoes\tnot\t exist\tin\tsecond\tstring\\\n",
    "'n' not in 'atgtgggg'"
   ]
  },
  {
   "cell_type": "markdown",
   "metadata": {},
   "source": [
    "## 2. VARIABLES\n",
    "myvariable = 1 ,\n",
    "MyVariable = 2 ,\n",
    "MYVARIABLE = 3\n",
    "\n",
    "_Valid names_: name, _str, DNA , sequence1 \n",
    "\n",
    "_Invalid names_: 1string, name#, year@20"
   ]
  },
  {
   "cell_type": "code",
   "execution_count": null,
   "metadata": {},
   "outputs": [],
   "source": [
    "# assigning a variable\n",
    "dna=\"gatcccccgatattatttgc\"\n",
    "dna"
   ]
  },
  {
   "cell_type": "code",
   "execution_count": null,
   "metadata": {},
   "outputs": [],
   "source": [
    "#trying indexing\n",
    "dna[0]"
   ]
  },
  {
   "cell_type": "code",
   "execution_count": null,
   "metadata": {},
   "outputs": [],
   "source": [
    "dna[-3]"
   ]
  },
  {
   "cell_type": "code",
   "execution_count": null,
   "metadata": {},
   "outputs": [],
   "source": [
    "dna[3:]"
   ]
  },
  {
   "cell_type": "code",
   "execution_count": null,
   "metadata": {},
   "outputs": [],
   "source": [
    "#finding length\n",
    "len(dna)"
   ]
  },
  {
   "cell_type": "code",
   "execution_count": null,
   "metadata": {},
   "outputs": [],
   "source": [
    "#value count\n",
    "dna.count('c')"
   ]
  },
  {
   "cell_type": "code",
   "execution_count": null,
   "metadata": {},
   "outputs": [],
   "source": [
    "dna.count('gc')"
   ]
  },
  {
   "cell_type": "code",
   "execution_count": null,
   "metadata": {},
   "outputs": [],
   "source": [
    "#upper case\n",
    "dna.upper()"
   ]
  },
  {
   "cell_type": "code",
   "execution_count": null,
   "metadata": {},
   "outputs": [],
   "source": [
    "dna"
   ]
  },
  {
   "cell_type": "code",
   "execution_count": null,
   "metadata": {},
   "outputs": [],
   "source": [
    "dna.find('at',9)"
   ]
  },
  {
   "cell_type": "code",
   "execution_count": null,
   "metadata": {},
   "outputs": [],
   "source": [
    "#finding\n",
    "dna.find('at')"
   ]
  },
  {
   "cell_type": "code",
   "execution_count": null,
   "metadata": {},
   "outputs": [],
   "source": [
    "#finding starting from reverse\n",
    "dna.rfind('at')"
   ]
  },
  {
   "cell_type": "code",
   "execution_count": null,
   "metadata": {},
   "outputs": [],
   "source": [
    "# true if it is lower\n",
    "dna.islower()"
   ]
  },
  {
   "cell_type": "code",
   "execution_count": null,
   "metadata": {},
   "outputs": [],
   "source": [
    "# true if it is upper\n",
    "dna.isupper()"
   ]
  },
  {
   "cell_type": "code",
   "execution_count": null,
   "metadata": {},
   "outputs": [],
   "source": [
    "# replace first arg present in var, with second arg\n",
    "dna.replace('a','A')"
   ]
  },
  {
   "cell_type": "code",
   "execution_count": null,
   "metadata": {},
   "outputs": [],
   "source": [
    "#storing in variables\n",
    "no_g=dna.count('g')\n",
    "no_c=dna.count('c')\n",
    "dna_length=len(dna)"
   ]
  },
  {
   "cell_type": "code",
   "execution_count": null,
   "metadata": {},
   "outputs": [],
   "source": [
    "#compute the GC%\n",
    "gc_percent=(no_c+no_g)*100.0/dna_length\n",
    "gc_percent"
   ]
  },
  {
   "cell_type": "code",
   "execution_count": null,
   "metadata": {},
   "outputs": [],
   "source": [
    "#Fancier\tOutput\tFormatting\n",
    "print(\"The DNA sequence's GC content is\",gc_percent,'%')"
   ]
  },
  {
   "cell_type": "code",
   "execution_count": null,
   "metadata": {},
   "outputs": [],
   "source": [
    "#input function\n",
    "dna1=input(\"Enter a DNA sequence, please:\")"
   ]
  },
  {
   "cell_type": "code",
   "execution_count": null,
   "metadata": {},
   "outputs": [],
   "source": [
    "dna1"
   ]
  },
  {
   "cell_type": "code",
   "execution_count": null,
   "metadata": {},
   "outputs": [],
   "source": [
    "# find the type of var\n",
    "type(dna1)"
   ]
  },
  {
   "cell_type": "code",
   "execution_count": null,
   "metadata": {},
   "outputs": [],
   "source": [
    "#converts\tan\tinteger\tto\ta\tcharacter\n",
    "chr(64)"
   ]
  },
  {
   "cell_type": "code",
   "execution_count": null,
   "metadata": {},
   "outputs": [],
   "source": [
    "#converts\tx\tto\ta\tstring\t\n",
    "str(dna1)"
   ]
  },
  {
   "cell_type": "code",
   "execution_count": null,
   "metadata": {},
   "outputs": [],
   "source": [
    "type(dna1)"
   ]
  },
  {
   "cell_type": "markdown",
   "metadata": {},
   "source": [
    "## 3. LISTS\n",
    "A\tlist\tis\tan\tordered\tset\tof\tvalues"
   ]
  },
  {
   "cell_type": "code",
   "execution_count": null,
   "metadata": {},
   "outputs": [],
   "source": [
    "# creating a list\n",
    "gene_expression=['gene',5.16e-08, 0.000138511, 7.33e-08]\n",
    "gene_expression"
   ]
  },
  {
   "cell_type": "code",
   "execution_count": null,
   "metadata": {},
   "outputs": [],
   "source": [
    "#indexing\n",
    "print(gene_expression[2])"
   ]
  },
  {
   "cell_type": "code",
   "execution_count": null,
   "metadata": {},
   "outputs": [],
   "source": [
    "#mutate string\n",
    "gene_expression[0]='Lif'\n",
    "gene_expression"
   ]
  },
  {
   "cell_type": "code",
   "execution_count": null,
   "metadata": {},
   "outputs": [],
   "source": [
    "#Don’t\tchange\tan\telement\tin\ta\tstring!\t\n",
    "motif ='nacggggtc'\n",
    "motif[0]='a'\n"
   ]
  },
  {
   "cell_type": "code",
   "execution_count": null,
   "metadata": {},
   "outputs": [],
   "source": [
    "#indexing\n",
    "gene_expression[-3:]"
   ]
  },
  {
   "cell_type": "code",
   "execution_count": null,
   "metadata": {},
   "outputs": [],
   "source": [
    "#indexing\n",
    "gene_expression[:]"
   ]
  },
  {
   "cell_type": "code",
   "execution_count": null,
   "metadata": {},
   "outputs": [],
   "source": [
    "# finding length\n",
    "len(gene_expression)"
   ]
  },
  {
   "cell_type": "code",
   "execution_count": null,
   "metadata": {},
   "outputs": [],
   "source": [
    "# can delete an index\n",
    "del gene_expression[1]"
   ]
  },
  {
   "cell_type": "code",
   "execution_count": null,
   "metadata": {},
   "outputs": [],
   "source": [
    "gene_expression"
   ]
  },
  {
   "cell_type": "code",
   "execution_count": null,
   "metadata": {},
   "outputs": [],
   "source": [
    "#adding more items at end\n",
    "gene_expression.extend([5.16e-08, 0.000138511])\n",
    "gene_expression"
   ]
  },
  {
   "cell_type": "code",
   "execution_count": null,
   "metadata": {},
   "outputs": [],
   "source": [
    "# showing reverse\n",
    "gene_expression.reverse()\n",
    "gene_expression"
   ]
  },
  {
   "cell_type": "code",
   "execution_count": null,
   "metadata": {},
   "outputs": [],
   "source": [
    "#try function help for more info/detail\n",
    "#help(list)"
   ]
  },
  {
   "cell_type": "code",
   "execution_count": null,
   "metadata": {},
   "outputs": [],
   "source": [
    "#Lists\tAs\tStacks\n",
    "stack=['a','b','c','d']"
   ]
  },
  {
   "cell_type": "code",
   "execution_count": null,
   "metadata": {},
   "outputs": [],
   "source": [
    "stack.append('e')\n",
    "stack"
   ]
  },
  {
   "cell_type": "code",
   "execution_count": null,
   "metadata": {},
   "outputs": [],
   "source": [
    "#To\tretrieve\tan\titem\tfrom\tthe\ttop\tof\tthe\tstack,\tuse\tpop()\n",
    "elem=stack.pop()"
   ]
  },
  {
   "cell_type": "code",
   "execution_count": null,
   "metadata": {},
   "outputs": [],
   "source": [
    "#order the list\n",
    "mylist=[3,31,123,1,5]\n",
    "sorted(mylist) #another\tway\tmylist.sort()"
   ]
  },
  {
   "cell_type": "code",
   "execution_count": null,
   "metadata": {},
   "outputs": [],
   "source": [
    "#order the list\n",
    "mylist=['c','g','T','a','A']\n",
    "sorted(mylist)"
   ]
  },
  {
   "cell_type": "markdown",
   "metadata": {},
   "source": [
    "## 4. TUPLES\n",
    "A\ttuple\tconsists\tof\ta\tnumber\tof\tvalues\tseparated\tby commas,\tand\tis\tanother\tstandard\tsequence\tdata\ttype,\tlike\tstrings\tand\tlists.\t"
   ]
  },
  {
   "cell_type": "code",
   "execution_count": null,
   "metadata": {},
   "outputs": [],
   "source": [
    "t=1,2,3\n",
    "#or\n",
    "t=(1,2,3)\n",
    "t"
   ]
  },
  {
   "cell_type": "markdown",
   "metadata": {},
   "source": [
    "## 5. SETS\n",
    "A\tset\tis\tan\tunordered\tcollection\twith\tno\tduplicate\telements.\t\n",
    "Set\tobjects\tsupport\tmathematical\toperations\tlike\tunion,\t\n",
    "intersection,\tand\tdifference."
   ]
  },
  {
   "cell_type": "code",
   "execution_count": null,
   "metadata": {},
   "outputs": [],
   "source": [
    "#creating a set\n",
    "brca1={'DNA repair','zinc ion binding','DNA binding','ubiquitin-protein transferase activity',\n",
    "'DNA repair','protein ubiquitination'}\n",
    "brca1"
   ]
  },
  {
   "cell_type": "code",
   "execution_count": null,
   "metadata": {},
   "outputs": [],
   "source": [
    "#creating another set\n",
    "brca2={'protein binding','H4 histone acetyltransferase activity','nucleoplasm', 'DNA repair','double-strand break repair',\n",
    "'double-strand break repair via homologous recombination'}\n",
    "brca2"
   ]
  },
  {
   "cell_type": "code",
   "execution_count": null,
   "metadata": {},
   "outputs": [],
   "source": [
    "#union\n",
    "brca1 | brca2 "
   ]
  },
  {
   "cell_type": "code",
   "execution_count": null,
   "metadata": {},
   "outputs": [],
   "source": [
    "#intersection\n",
    "brca1 & brca2 "
   ]
  },
  {
   "cell_type": "code",
   "execution_count": null,
   "metadata": {},
   "outputs": [],
   "source": [
    "#difference\n",
    "brca1 - brca2 "
   ]
  },
  {
   "cell_type": "markdown",
   "metadata": {},
   "source": [
    "## 6. DICTIONARIES\n",
    "A\tdictionary\tis\tan\tunordered\tset\tof\tkey\tand\tvalue\tpairs,\twith the\trequirement\tthat\tthe\tkeys\tare\tunique\t(within\tone dictionary)."
   ]
  },
  {
   "cell_type": "code",
   "execution_count": null,
   "metadata": {},
   "outputs": [],
   "source": [
    "#creating a dictionary\n",
    "TF_motif = {'SP1' :'gggcgg', \n",
    "'C/EBP':'attgcgcaat',\n",
    "'ATF':'tgacgtca',\n",
    "'c-Myc':'cacgtg',\n",
    "'Oct-1':'atgcaaat'} #Each\tkey\tis\tseparated\tfrom\tits\t value\tby\ta\tcolon."
   ]
  },
  {
   "cell_type": "code",
   "execution_count": null,
   "metadata": {},
   "outputs": [],
   "source": [
    "# can asses value by its key\n",
    "print(\"The recognition sequence for the ATF transcription is\",\n",
    "TF_motif['ATF'])"
   ]
  },
  {
   "cell_type": "code",
   "execution_count": null,
   "metadata": {},
   "outputs": [],
   "source": [
    "#Add\ta\tnew\tkey:value\tpair\tto\tthe\tdictionary\n",
    "TF_motif['AP-1']='tgagtca'\n",
    "TF_motif"
   ]
  },
  {
   "cell_type": "code",
   "execution_count": null,
   "metadata": {},
   "outputs": [],
   "source": [
    "#Modify\tan\texisting\tentry\n",
    "TF_motif['AP-1']='tga(g/c)tca'\n",
    "TF_motif"
   ]
  },
  {
   "cell_type": "code",
   "execution_count": null,
   "metadata": {},
   "outputs": [],
   "source": [
    "#Delete\ta\tkey\tfrom\tthe\tdictionary\n",
    "del TF_motif['SP1']\n",
    "TF_motif"
   ]
  },
  {
   "cell_type": "code",
   "execution_count": null,
   "metadata": {},
   "outputs": [],
   "source": [
    "#find length\n",
    "len(TF_motif)"
   ]
  },
  {
   "cell_type": "code",
   "execution_count": null,
   "metadata": {},
   "outputs": [],
   "source": [
    "# list the keys only\n",
    "list(TF_motif.keys())"
   ]
  },
  {
   "cell_type": "code",
   "execution_count": null,
   "metadata": {},
   "outputs": [],
   "source": [
    "# list the values only\n",
    "list(TF_motif.values())"
   ]
  },
  {
   "cell_type": "code",
   "execution_count": null,
   "metadata": {},
   "outputs": [],
   "source": [
    "#order \n",
    "sorted(TF_motif.keys())"
   ]
  },
  {
   "cell_type": "code",
   "execution_count": null,
   "metadata": {},
   "outputs": [],
   "source": [
    "#order\n",
    "sorted(TF_motif.values())"
   ]
  },
  {
   "cell_type": "markdown",
   "metadata": {},
   "source": [
    "## 7. MODULES AND\tPACKAGES\n",
    "\n",
    "**Modules**\tin\tPython\tare\tsimply\tPython\tFiles\twith\t\n",
    "the\t.py extension,\twhich\tcontain\tdeFinitions\tof\t\n",
    "functions,\tor\tvariables,\tusually\trelated\tto\ta\tspeciFic\t\n",
    "theme.\n",
    "\n",
    "**Packages**\tgroup\tmultiple\tmodules\tunder\tone\tname,\t\n",
    "by\tusing\t“dotted\tmodule\tnames”.\tFor\texample,\tthe\t\n",
    "module\tname\tA.B\tdesignates\ta\tsubmodule\tnamed\tB\t\n",
    "in\ta\tpackage\tnamed\tA"
   ]
  },
  {
   "cell_type": "code",
   "execution_count": null,
   "metadata": {},
   "outputs": [],
   "source": [
    "#use\tthe\tsys.path\tvariable\tfrom\tthe\tsys\tbuilt-in module\tto\tcheck\tthe\tlist\tof\tall\tdirectories\twhere\tPython\tlooksfor\tFiles\n",
    "import sys\n",
    "sys.path"
   ]
  },
  {
   "cell_type": "code",
   "execution_count": null,
   "metadata": {},
   "outputs": [],
   "source": [
    "sys.path.append(\"C:\\\\Users\\\\Azka\") #you\tcan\textend\tit by\n",
    "#sys.path"
   ]
  },
  {
   "cell_type": "code",
   "execution_count": null,
   "metadata": {},
   "outputs": [],
   "source": [
    "import dnautil\n",
    "dna=\"atgaggcggcggcggccgcggctaggt\"\n",
    "dnautil.gc(dna)"
   ]
  },
  {
   "cell_type": "markdown",
   "metadata": {},
   "source": [
    "**Package\tExample**\n",
    "\n",
    "You\tcan\teven\thave\tother\tpackages\tinside\tyour\tpackage:\n",
    "\t\n",
    "bioseq/\n",
    "\n",
    "    __init__.py\n",
    "    dnautil.py\n",
    "    rnautil.py\n",
    "    proteinutil.py\n",
    "    fasta/\n",
    "        __init__.py\n",
    "        fastautil.py    \n",
    "    fastq/\n",
    "        __init__.py\n",
    "        fastqutil.py\n",
    "To\tuse\tthe\tmodule\tdnautil     \"bioseq.dnautil.gc(dna)\""
   ]
  },
  {
   "cell_type": "markdown",
   "metadata": {},
   "source": [
    "## 8. IFS AND\tLOOPS"
   ]
  },
  {
   "cell_type": "code",
   "execution_count": null,
   "metadata": {},
   "outputs": [],
   "source": [
    "dna=input('Enter DNA sequence:')\n",
    "if 'n' in dna :\n",
    "        nbases=dna.count('n')\n",
    "        print(\"dna sequence has %d undefined bases \" % nbases)"
   ]
  },
  {
   "cell_type": "markdown",
   "metadata": {},
   "source": [
    "**Comparison\tOperators**\n",
    "\n",
    ">'a'=='A'\n",
    "\n",
    "False\n",
    "\n",
    "\n",
    ">'GT' != 'AG'\n",
    "\n",
    "True\n",
    "\n",
    "\n",
    ">'A'<'C'\n",
    "\n",
    "True\n",
    "\n",
    "\n",
    ">10+1==11\n",
    "\n",
    "True"
   ]
  },
  {
   "cell_type": "markdown",
   "metadata": {},
   "source": [
    "**Membership\tOperators**\n",
    "\n",
    "> in  |  not in\n",
    "\n",
    "**Identity\tOperators**\n",
    "\n",
    "> is  |  not is"
   ]
  },
  {
   "cell_type": "code",
   "execution_count": null,
   "metadata": {},
   "outputs": [],
   "source": [
    "alphabet=['a','b','g','t','e']\n",
    "\n",
    "newalphabet=alphabet[:]"
   ]
  },
  {
   "cell_type": "code",
   "execution_count": null,
   "metadata": {},
   "outputs": [],
   "source": [
    "alphabet == newalphabet"
   ]
  },
  {
   "cell_type": "code",
   "execution_count": null,
   "metadata": {},
   "outputs": [],
   "source": [
    "alphabet is newalphabet"
   ]
  },
  {
   "cell_type": "markdown",
   "metadata": {},
   "source": [
    "**Alternative\tExecution**"
   ]
  },
  {
   "cell_type": "code",
   "execution_count": null,
   "metadata": {},
   "outputs": [],
   "source": [
    "dna=input('Enter DNA sequence:')\n",
    "\n",
    "if 'n' in dna :\n",
    "        nbases=dna.count('n')\n",
    "        print(\"dna sequence has %d undefined bases \" % nbases)\n",
    "else:\n",
    "        print(\"dna sequence has no undefined bases\")"
   ]
  },
  {
   "cell_type": "markdown",
   "metadata": {},
   "source": [
    "**Multiple\tAlternative\tExecutions**"
   ]
  },
  {
   "cell_type": "code",
   "execution_count": null,
   "metadata": {},
   "outputs": [],
   "source": [
    "dna=input('Enter DNA sequence:')\n",
    "\n",
    "if 'n' in dna :\n",
    "        print(\"dna sequence has undefined bases \")\n",
    "elif \"N\" in dna :\n",
    "        print(\"dna sequence has undefined bases \")\n",
    "else:\n",
    "        print(\"dna sequence has no undefined bases\")"
   ]
  },
  {
   "cell_type": "markdown",
   "metadata": {},
   "source": [
    "**Logical\tOperators**\t\n",
    "\n",
    "> and - True if both conditions are true \n",
    "\n",
    "> or - True if at least one condition is true \n",
    "\n",
    "> not - True if condition is false\n"
   ]
  },
  {
   "cell_type": "code",
   "execution_count": null,
   "metadata": {},
   "outputs": [],
   "source": [
    "dna=input('Enter DNA sequence:')\n",
    "\n",
    "if 'n' in dna or \"N\" in dna:\n",
    "        nbases=dna.count('n')+dna.count(\"N\")\n",
    "        print(\"dna sequence has %d undefined bases \" % nbases)\n",
    "else:\n",
    "        print(\"dna sequence has no undefined bases\")"
   ]
  },
  {
   "cell_type": "markdown",
   "metadata": {},
   "source": [
    "**The\twhile\tLoop**"
   ]
  },
  {
   "cell_type": "code",
   "execution_count": null,
   "metadata": {},
   "outputs": [],
   "source": [
    "dna=input('Enter DNA sequence:') \n",
    "pos=dna.find('gt',0) # position of donor splice site\n",
    "while pos>-1 :\n",
    "        print(\"Donor splice site candidate at position %d\" %pos)\n",
    "pos=dna.find('gt',pos+1)"
   ]
  },
  {
   "cell_type": "markdown",
   "metadata": {},
   "source": [
    "**The\tfor\tLoop**"
   ]
  },
  {
   "cell_type": "code",
   "execution_count": null,
   "metadata": {},
   "outputs": [],
   "source": [
    "motifs=[\"attccgt\",\"agggggtttttcg\",\"gtagc\"]\n",
    "for m in motifs:\n",
    "        print(m,len(m))"
   ]
  },
  {
   "cell_type": "markdown",
   "metadata": {},
   "source": [
    "**The\trange()\tFunction**\n",
    "\n",
    "The\trange()\tbuilt-in\tfunction\tallows\tyou\tto\titerate\tover  a\tsequence\tof\tnumbers"
   ]
  },
  {
   "cell_type": "code",
   "execution_count": null,
   "metadata": {},
   "outputs": [],
   "source": [
    "for i in range(4):\n",
    "        print(i)"
   ]
  },
  {
   "cell_type": "code",
   "execution_count": null,
   "metadata": {},
   "outputs": [],
   "source": [
    "for i in range(1,10,2):\n",
    "        print(i)"
   ]
  },
  {
   "cell_type": "markdown",
   "metadata": {},
   "source": [
    "_Problem_.\tFind\tif\tall\tcharacters\tin\ta\tgiven\tprotein\tsequence\tare\t\n",
    "valid\tamino\tacids."
   ]
  },
  {
   "cell_type": "code",
   "execution_count": null,
   "metadata": {},
   "outputs": [],
   "source": [
    "protein='SDVIHRYKUUPAKSHGWYVCJRSRFTWMVWWRFRSCRA'\n",
    "for i in range(len(protein)):\n",
    "        if protein[i] not in 'ABCDEFGHIKLMNPQRSTVWXYZ':\n",
    "            print(\"protein contains invalid amino acid %s at position %d\"%(protein[i],i))"
   ]
  },
  {
   "cell_type": "markdown",
   "metadata": {},
   "source": [
    "_Problem_.\tSuppose\twe\tare\tonly\tinterested\tin\tHinding\tif\ta\tprotein\t\n",
    "sequence\tis\tvalid,\tnot\twhere\tare\tall\tthe\tinvalid\tcharacters\tin\tthe\t\n",
    "sequence.\t\n"
   ]
  },
  {
   "cell_type": "code",
   "execution_count": null,
   "metadata": {},
   "outputs": [],
   "source": [
    "protein='SDVIHRYKUUPAKSHGWYVCJRSRFTWMVWWRFRSCRA'\n",
    "for i in range(len(protein)):\n",
    "        if protein[i] not in 'ABCDEFGHIKLMNPQRSTVWXYZ':\n",
    "            print(\"this is not a valid protein sequence!\")\n",
    "            break"
   ]
  },
  {
   "cell_type": "markdown",
   "metadata": {},
   "source": [
    "**The\tcontinue\tStatement**\n",
    "\n",
    "The\tcontinue\tstatement\tcauses\tthe\tprogram\tto\tcontinue\twith\t\n",
    "the\tnext\titeration\tof\tthe\tnearest\tenclosing\tloop,\tskipping\tthe\t\n",
    "rest\tof\tthe\tcode\tin\tthe\tloop."
   ]
  },
  {
   "cell_type": "markdown",
   "metadata": {},
   "source": [
    "_Problem_.\tDelete\tall\tinvalid\tamino\tacid\tcharacters\tfrom\ta\tprotein\t\n",
    "sequence.\t\t"
   ]
  },
  {
   "cell_type": "code",
   "execution_count": null,
   "metadata": {},
   "outputs": [],
   "source": [
    "protein='SDVIHRYKUUPAKSHGWYVCJRSRFTWMVWWRFRSCRA'\n",
    "corrected_protein=''\n",
    "for i in range(len(protein)):\n",
    "        if protein[i] not in 'ABCDEFGHIKLMNPQRSTVWXYZ':\n",
    "            continue\n",
    "        corrected_protein=corrected_protein+protein[i]\n",
    "\n",
    "print(\"Corrected protein sequence is:%s\"%corrected_protein)"
   ]
  },
  {
   "cell_type": "code",
   "execution_count": null,
   "metadata": {},
   "outputs": [],
   "source": [
    "#An\tExample\tOf\tUsing\telse\tWith\tA\tfor\tLoop\n",
    "#Find\tall\tprime\tnumbers\tsmaller\tthan\ta\tgiven\tinteger.\t\n",
    "N=10\n",
    "for y in range(2, N):\n",
    "    for x in range(2, y):\n",
    "        if y % x == 0:\n",
    "            print(y, 'equals', x, '*', y//x)\n",
    "            break\n",
    "    else:\n",
    "        # loop fell through without finding a factor\n",
    "        print(y, 'is a prime number')"
   ]
  },
  {
   "cell_type": "markdown",
   "metadata": {},
   "source": [
    "**The\tpass\tStatement**\n",
    "\n",
    "Python's\tpass\tstatement\tis\ta\tplaceholder.\tit\tdoes\tnothing.\t\n",
    " It\tis\tused\twhen\ta\tstatement\tis\trequired\tsyntactically\tbut\tyou\t\n",
    "do\tnot\twant\tany\tcommand\tor\tcode\tto\texecute."
   ]
  },
  {
   "cell_type": "code",
   "execution_count": null,
   "metadata": {},
   "outputs": [],
   "source": [
    "if motif not in dna:\n",
    "    pass\n",
    "else:\n",
    "    print(motif,dna)"
   ]
  },
  {
   "cell_type": "markdown",
   "metadata": {},
   "source": [
    "## 9. FUNCTIONS\n",
    "A\tfunction\tis\ta\tpart\tof\ta\tprogram.\tIt\ttakes\ta\tlist\tof\targument\t\n",
    "values,\tperforms\ta\tcomputation\twith\tthose\tvalues,\tand\t\n",
    "returns\ta\tsingle\tresult.\tlike\tprint(),\t\n",
    "len()\tetc.\n",
    "\n",
    "Some\tUseful\tDNA\tSequence\tFunctions\t\n",
    "1. A\t\tfunction\tthat\tcomputes\tthe\tGC\t\n",
    "percentage\tof\ta\tDNA\tsequence\t\n",
    "2. A\tfunction\tto\tcheck\tif\ta\tDNA\tsequence\thas\t\n",
    "an\tin\tframe\tstop\tcodon.\t\n",
    "3. A\tfunction\tto\treverse\tcomplement\ta\tDNA\t\n",
    "sequence.\t"
   ]
  },
  {
   "cell_type": "code",
   "execution_count": null,
   "metadata": {},
   "outputs": [],
   "source": [
    "#A\tFunction\tTo\tCompute\tThe\tGC\tPercentage\tOf\tA\tDNA\tSequence\t\n",
    "def gc(dna) :\n",
    "    \"this function computes the GC percentage of a dna sequence\"\n",
    "    nbases=dna.count('n')+dna.count('N')\n",
    "    gcpercent=float(dna.count('c')+dna.count('C')+dna.count('g')\n",
    "+dna.count('G'))*100.0/(len(dna)-nbases)\n",
    "    return gcpercent\n",
    "gc('AAAGTNNAGTCC')"
   ]
  },
  {
   "cell_type": "code",
   "execution_count": null,
   "metadata": {},
   "outputs": [],
   "source": [
    "#execution is easy \n",
    "gc(dna)"
   ]
  },
  {
   "cell_type": "code",
   "execution_count": null,
   "metadata": {},
   "outputs": [],
   "source": [
    "# function that finds if it has a stop codon in a frame\n",
    "def has_stop_codon(dna,frame) :\n",
    "        'This function checks if given dna sequence has in frame stop codons.'\n",
    "        stop_codon_found=False\n",
    "        stop_codons=['tga','tag','taa']\n",
    "        for i in range(frame,len(dna),3) :\n",
    "            codon=dna[i:i+3].lower()\n",
    "            if codon in stop_codons :\n",
    "                stop_codon_found=True\n",
    "            break\n",
    "        return stop_codon_found"
   ]
  },
  {
   "cell_type": "code",
   "execution_count": null,
   "metadata": {},
   "outputs": [],
   "source": [
    "dna=input(\"Enter a DNA sequence, please:\")\n",
    "if has_stop_codon(dna,frame=0):\n",
    "    print(\"Input sequence has an in frame stop codon.\")\n",
    "else :\n",
    "    print(\"Input sequence has no in frame stop codons.\")"
   ]
  },
  {
   "cell_type": "code",
   "execution_count": null,
   "metadata": {},
   "outputs": [],
   "source": [
    "dna=\"aaatgagcggccggct\"\n",
    "has_stop_codon(dna,frame=1)\n",
    "has_stop_codon(dna,1)"
   ]
  },
  {
   "cell_type": "code",
   "execution_count": null,
   "metadata": {},
   "outputs": [],
   "source": [
    "seq='tgggcctaggtaac'\n",
    "has_stop_codon(seq,1)"
   ]
  },
  {
   "cell_type": "code",
   "execution_count": null,
   "metadata": {},
   "outputs": [],
   "source": [
    "has_stop_codon(frame=0,dna=seq)"
   ]
  },
  {
   "cell_type": "code",
   "execution_count": null,
   "metadata": {},
   "outputs": [],
   "source": [
    "has_stop_codon(seq,frame=2)"
   ]
  },
  {
   "cell_type": "code",
   "execution_count": null,
   "metadata": {},
   "outputs": [],
   "source": [
    "# defining function for reverse complementing a base\n",
    "\n",
    "def reverse_string(seq):\n",
    "    return seq[::-1]\n",
    "def complement(dna): \n",
    "    \"\"\"Return the complementary sequence string.\"\"\"\n",
    "    basecomplement = {'A':'T', 'C':'G','G':'C', 'T':'A', 'N':'N',\n",
    "     'a':'t', 'c':'g','g':'c', 't':'a', 'n':'n'}\n",
    "    letters = list(dna) \n",
    "    letters = [basecomplement[base] for base in letters] \n",
    "    return ''.join(letters)\n",
    "def reversecomplement(seq): \n",
    "        \"\"\"Return the reverse complement of the dna string.\"\"\"\n",
    "        seq = reverse_string(seq) \n",
    "        seq = complement(seq) \n",
    "        return seq"
   ]
  },
  {
   "cell_type": "code",
   "execution_count": null,
   "metadata": {},
   "outputs": [],
   "source": [
    "reversecomplement('CCGGAAGAGCTTACTTAG') "
   ]
  },
  {
   "cell_type": "markdown",
   "metadata": {},
   "source": [
    "**List\tComprehensions**\t\n",
    "\n",
    "List\tcomprehensions\tin\tPython\tprovide\ta\tconcise\tway\tto\t\n",
    "create\tlists.\t\t\n",
    "\n",
    "Common\tapplications\tare\tto\tmake\tnew\tlists\twhere\teach\t\n",
    "element\tis\tthe\tresult\tof\tsome\toperations\tapplied\tto\teach\t\n",
    "member\tof\tanother\tsequence,\tor\tto\tcreate\ta\tsubsequence\tof\t\n",
    "those\telements\tthat\tsatisfy\ta\tcertain\tcondition.\t"
   ]
  },
  {
   "cell_type": "code",
   "execution_count": null,
   "metadata": {},
   "outputs": [],
   "source": [
    "# How\tTo\tComplement(only)\tEach\tLetter\tIn\tA\tDNA\tSequence\n",
    "dna='AGTGTGGGGCG'\n",
    "basecomplement = {'A':'T', 'C':'G','G':'C', 'T':'A', 'N':'N',\n",
    "'a':'t', 'c':'g','g':'c', 't':'a', 'n':'n'}\n",
    "letters=list(dna)\n",
    "letters = [basecomplement[base] for base in letters]\n",
    "letters"
   ]
  },
  {
   "cell_type": "markdown",
   "metadata": {},
   "source": [
    "**Split\tAnd\tJoin**\t\n",
    "\n",
    "Split\tand\tjoin\tare\tmethods\tof\tthe\tstring\tobject.\n",
    "\n",
    "**Split**\tThe\tmethod\tsplit()\treturns\ta\tlist\tof\tall\tthe\twords\tin\tthe\tstring.\n",
    "\n",
    "**Join**    The\tmethod\tjoin()\treturns\ta\tstring\tin\twhich\tthe\tstring\telements\t\n",
    "were\tjoined\tfrom\ta\tlist.\tThe\tseparator\tstring\tthat\tjoins\tthe\telements\tis\tthe\t\n",
    "one\tupon\twhich\tthe\tfunction\tis\tcalled."
   ]
  },
  {
   "cell_type": "code",
   "execution_count": null,
   "metadata": {},
   "outputs": [],
   "source": [
    "# split\n",
    "sentence=\"enzymes and other proteins come in many shapes\"\n",
    "sentence.split()"
   ]
  },
  {
   "cell_type": "code",
   "execution_count": null,
   "metadata": {},
   "outputs": [],
   "source": [
    "# join\n",
    "'-'.join(['enzymes', 'and', 'other', 'proteins', \n",
    "'come', 'in', 'many', 'shapes'])"
   ]
  },
  {
   "cell_type": "markdown",
   "metadata": {},
   "source": [
    "## 10. WITH THE\tOUTSIDE\n",
    "\n",
    "**Reading\tand\tWriting\tFiles**\t\n",
    "\n",
    "To\tread\tor\twrite\tfiles\tuse\tthe\tbuilt-in\tfunction\topen (filename, mode)\n",
    "\n",
    "> f=open(‘myfile’,’r’)\n",
    "\n",
    "> f=open(‘myfile’,’w’)\n",
    "\n",
    "> f=open(‘myfile’,’a’)\n"
   ]
  },
  {
   "cell_type": "code",
   "execution_count": null,
   "metadata": {},
   "outputs": [],
   "source": [
    "#Reading\tfrom\ta\tfile\n",
    "try:\n",
    "    f = open(\"myfile\")\n",
    "except IOError: #Errors\tWhen\tOpening\ta\tFile\n",
    "    print(\"the file myfile does not exist!!\")"
   ]
  },
  {
   "cell_type": "code",
   "execution_count": null,
   "metadata": {},
   "outputs": [],
   "source": [
    "#Reading\tFrom\ta\tFile\n",
    "for line in f:\n",
    "    print(line)"
   ]
  },
  {
   "cell_type": "code",
   "execution_count": null,
   "metadata": {},
   "outputs": [],
   "source": [
    "f.seek(0)\n",
    "f.read()"
   ]
  },
  {
   "cell_type": "code",
   "execution_count": null,
   "metadata": {},
   "outputs": [],
   "source": [
    "#Changing\tPositions\tWithin\ta\tFile\tObject\t\n",
    "f.seek(0)\n",
    "f.readline()"
   ]
  },
  {
   "cell_type": "code",
   "execution_count": null,
   "metadata": {},
   "outputs": [],
   "source": [
    "# Writing\tInto\ta\tFile\n",
    "f = open('c:\\\\Users\\\\Azka\\\\Desktop\\\\GenomicDS practice\\\\myfile','a')\n",
    "f.write('This is a third line')"
   ]
  },
  {
   "cell_type": "code",
   "execution_count": null,
   "metadata": {},
   "outputs": [],
   "source": [
    "# Writing\tInto\ta\tFile\n",
    "f = open(\"myfile\")\n",
    "\n",
    "for line in f:\n",
    "    print(line)\n"
   ]
  },
  {
   "cell_type": "code",
   "execution_count": null,
   "metadata": {},
   "outputs": [],
   "source": [
    "# Closing\ta\tFile\tObject\n",
    "f.close()"
   ]
  },
  {
   "cell_type": "markdown",
   "metadata": {},
   "source": [
    "**Reading\ta\tFASTA\tFile**\t\n",
    "\n",
    "_Exercise_:\tBuild\ta\tdictionary\t\n",
    "containing\tall\tsequences\tfrom\ta\t\n",
    "FASTA\tfile."
   ]
  },
  {
   "cell_type": "code",
   "execution_count": null,
   "metadata": {},
   "outputs": [],
   "source": [
    "# Reading\ta\tFASTA\tFile\n",
    "try:\n",
    "    f = open(\"fastafile\")\n",
    "except IOError:\n",
    "    print(\"File myfile.fa does not exist!!\")\n",
    "seqs={}\n",
    "for line in f:\n",
    "    # let's discard the newline at the end (if any)\n",
    "    line=line.rstrip() \n",
    "    # distinguish header from sequence\n",
    "    if line[0]=='>': # or line.startswith('>')\n",
    "        words=line.split()\n",
    "        name=words[0][1:]\n",
    "        seqs[name]=\"\"\n",
    "    else : # sequence, not header\n",
    "        seqs[name] = seqs[name] + line\n",
    "f.close()"
   ]
  },
  {
   "cell_type": "code",
   "execution_count": null,
   "metadata": {},
   "outputs": [],
   "source": [
    "# Retrieving\tData\tFrom\tDictionaries\n",
    "for name,seq in seqs.items():\n",
    "    print(name,seq)"
   ]
  },
  {
   "cell_type": "code",
   "execution_count": null,
   "metadata": {},
   "outputs": [],
   "source": [
    "# Reading\tthe\tCommand\tLine\tArguments\tin\tprocessfasta.py\n",
    "\n",
    "\"\"\"\n",
    "processfasta.py builds a dictionary with all sequences \n",
    "from a FASTA file.\n",
    "\"\"\"\n",
    "import sys\n",
    "filename=sys.argv[1]\n",
    "\n",
    "try:\n",
    "    f = open(\"fastafile\")\n",
    "except IOError:\n",
    "    print(\"File %s does not exist!!\"%filename)\n",
    "seqs={}\n",
    "for line in f:\n",
    "    # let's discard the newline at the end (if any)\n",
    "    line=line.rstrip() \n",
    "    # distinguish header from sequence\n",
    "    if line[0]=='>': # or line.startswith('>')\n",
    "        words=line.split()\n",
    "        name=words[0][1:]\n",
    "        seqs[name]=\"\"\n",
    "    else : # sequence, not header\n",
    "        seqs[name] = seqs[name] + line\n",
    "f.close()"
   ]
  },
  {
   "cell_type": "code",
   "execution_count": null,
   "metadata": {},
   "outputs": [],
   "source": [
    "# # Command\tLine\tArguments\n",
    "# # python processfasta.py fastafile\n",
    "# import sys\n",
    "# print(sys.argv)\n",
    "# #processfasta.py –l 250 fastafile"
   ]
  },
  {
   "cell_type": "code",
   "execution_count": null,
   "metadata": {},
   "outputs": [],
   "source": [
    "# # Using\tthe\tSystem\tEnvironment\n",
    "# sys.stdin.read()\n",
    "# a line\n",
    "# another line"
   ]
  },
  {
   "cell_type": "code",
   "execution_count": null,
   "metadata": {},
   "outputs": [],
   "source": []
  }
 ],
 "metadata": {
  "interpreter": {
   "hash": "69eb46f2bce47a2509c2b9deeedf7121a5e08aa609b9358637954fdcc3621e06"
  },
  "kernelspec": {
   "display_name": "Python 3.9.7 ('base')",
   "language": "python",
   "name": "python3"
  },
  "language_info": {
   "codemirror_mode": {
    "name": "ipython",
    "version": 3
   },
   "file_extension": ".py",
   "mimetype": "text/x-python",
   "name": "python",
   "nbconvert_exporter": "python",
   "pygments_lexer": "ipython3",
   "version": "3.9.7"
  },
  "orig_nbformat": 4
 },
 "nbformat": 4,
 "nbformat_minor": 2
}
